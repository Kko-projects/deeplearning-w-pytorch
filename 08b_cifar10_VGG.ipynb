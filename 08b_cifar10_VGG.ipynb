{
  "nbformat": 4,
  "nbformat_minor": 0,
  "metadata": {
    "colab": {
      "provenance": [],
      "gpuType": "T4",
      "authorship_tag": "ABX9TyOn5gc50esMUw/2uoumCjB7"
    },
    "kernelspec": {
      "name": "python3",
      "display_name": "Python 3"
    },
    "language_info": {
      "name": "python"
    },
    "accelerator": "GPU"
  },
  "cells": [
    {
      "cell_type": "code",
      "execution_count": null,
      "metadata": {
        "colab": {
          "base_uri": "https://localhost:8080/"
        },
        "id": "G9tr7TnT0NuK",
        "outputId": "734645af-9d3a-42f7-cdba-29761277b7cc"
      },
      "outputs": [
        {
          "output_type": "stream",
          "name": "stdout",
          "text": [
            "True\n"
          ]
        }
      ],
      "source": [
        "import numpy as np\n",
        "import matplotlib.pyplot as plt\n",
        "\n",
        "import torch\n",
        "print(torch.cuda.is_available())  # Should print True\n",
        "device = torch.device(\"cuda\" if torch.cuda.is_available() else \"cpu\")\n",
        "\n",
        "import torch.nn as nn\n",
        "import torchvision.datasets as dsets\n",
        "import torchvision.transforms as transforms\n",
        "from torch.utils.data import DataLoader, TensorDataset\n",
        "\n",
        "from torchsummary import summary\n",
        "from tqdm import tqdm"
      ]
    },
    {
      "cell_type": "code",
      "source": [
        "#Global Variable For training\n",
        "Batch_Size=100\n",
        "Num_Epoch=2\n",
        "Learning_Rate=0.01\n",
        "Criterion=nn.CrossEntropyLoss()\n",
        "Optimizer=torch.optim.Adam"
      ],
      "metadata": {
        "id": "65o1pg9D0ct-"
      },
      "execution_count": null,
      "outputs": []
    },
    {
      "cell_type": "code",
      "source": [
        "#CIFARIO Dataset\n",
        "Train_dataset=dsets.CIFAR10(root='./data',train=True,transform=transforms.ToTensor(),download=True)\n",
        "Test_dataset=dsets.CIFAR10(root='./data',train=False,transform=transforms.ToTensor(),download=True)\n",
        "\n",
        "Train_loader=DataLoader(dataset=Train_dataset,batch_size=Batch_Size,shuffle=True)\n",
        "Test_loader=DataLoader(dataset=Test_dataset,batch_size=Batch_Size,shuffle=False)"
      ],
      "metadata": {
        "colab": {
          "base_uri": "https://localhost:8080/"
        },
        "id": "pmO3dgGd0fpS",
        "outputId": "3a1537eb-f652-476c-9aa1-502a3a5162fd"
      },
      "execution_count": null,
      "outputs": [
        {
          "output_type": "stream",
          "name": "stderr",
          "text": [
            "100%|██████████| 170M/170M [00:03<00:00, 45.4MB/s]\n"
          ]
        }
      ]
    },
    {
      "cell_type": "code",
      "source": [
        "def fit(model, train_loader):\n",
        "    model.train()\n",
        "    device = next(model.parameters()).device.index\n",
        "    optimizer = torch.optim.SGD(model.parameters(), lr=Learning_Rate, momentum=0.9)\n",
        "    losses = []\n",
        "    for i, data in enumerate(train_loader):\n",
        "        image = data[0].type(torch.FloatTensor).cuda(device)\n",
        "        label = data[1].type(torch.LongTensor).cuda(device)\n",
        "        pred = model(image)\n",
        "        loss = Criterion(pred, label)\n",
        "        optimizer.zero_grad()\n",
        "        loss.backward()\n",
        "        optimizer.step()\n",
        "        losses.append(loss.item())\n",
        "    return sum(losses) / len(losses)\n",
        "\n",
        "def eval(model, test_loader):\n",
        "    model.eval()\n",
        "    device = next(model.parameters()).device.index\n",
        "    pred_labels = []\n",
        "    real_labels = []\n",
        "    for i, data in enumerate(test_loader):\n",
        "        image = data[0].type(torch.FloatTensor).cuda(device)\n",
        "        label = data[1].type(torch.LongTensor).cuda(device)\n",
        "        pred_label = model(image)\n",
        "        pred_label = torch.argmax(pred_label, dim=1)\n",
        "        pred_labels += pred_label.tolist()\n",
        "        real_labels += label.tolist()\n",
        "    real_labels = np.array(real_labels)\n",
        "    pred_labels = np.array(pred_labels)\n",
        "    return sum(real_labels == pred_labels) / len(real_labels) * 100"
      ],
      "metadata": {
        "id": "OkVyo8JC17PK"
      },
      "execution_count": null,
      "outputs": []
    },
    {
      "cell_type": "code",
      "source": [
        "# VGG\n",
        "import torch.utils.model_zoo as model_zoo\n",
        "\n",
        "model_urls = {\n",
        "    'vgg11':'https://download.pytorch.org/models/vgg11-bbd30ac9.pth',\n",
        "    'vgg13':'https://download.pytorch.org/models/vgg13-c768596a.pth',\n",
        "    'vgg16':'https://download.pytorch.org/models/vgg16-397923af.pth',\n",
        "    'vgg19':'https://download.pytorch.org/models/vgg19-dcbb9e9d.pth',\n",
        "    'vgg11_bn':'https://download.pytorch.org/models/vgg11_bn-6002323d.pth',\n",
        "    'vgg13_bn':'https://download.pytorch.org/models/vgg13_bn-abd245e5.pth',\n",
        "    'vgg16_bn':'https://download.pytorch.org/models/vgg16_bn-6c64b313.pth',\n",
        "    'vgg19_bn':'https://download.pytorch.org/models/vgg19_bn-903'\n",
        "\n",
        "}"
      ],
      "metadata": {
        "id": "SmH6Kkwl0kDK"
      },
      "execution_count": null,
      "outputs": []
    },
    {
      "cell_type": "code",
      "source": [
        "# VGG class definition: handles feature extraction and classification\n",
        "class VGG(nn.Module):\n",
        "    def __init__(self, features, num_classes=1000, init_weights=True):\n",
        "\n",
        "        super(VGG, self).__init__()\n",
        "\n",
        "        self.features = features  # CNN feature extractor built by make_layers()\n",
        "\n",
        "        self.classifier = nn.Sequential(  # Fully connected (dense) layers\n",
        "            nn.Linear(512, 4096),\n",
        "            nn.ReLU(True),\n",
        "            nn.Dropout(),\n",
        "            nn.Linear(4096, 4096),\n",
        "        )\n",
        "\n",
        "        if init_weights:\n",
        "            self._initialize_weights()  # Initialize weights if specified\n",
        "\n",
        "\n",
        "    def forward(self, x):\n",
        "        x = self.features(x)           # Apply convolutional layers\n",
        "        x = x.view(x.size(0), -1)      # Flatten the output\n",
        "        x = self.classifier(x)         # Apply dense layers\n",
        "        return x\n",
        "\n",
        "\n",
        "    def _initialize_weights(self):\n",
        "        for m in self.modules(): # Iterate through all modules\n",
        "            if isinstance(m, nn.Conv2d):  # For Conv2d layers, use He initialization\n",
        "                nn.init.kaiming_normal_(m.weight, mode='fan_out', nonlinearity='relu')\n",
        "                if hasattr(m, 'bias') and m.bias is not None:\n",
        "                    nn.init.constant_(m.bias, 0)\n",
        "\n",
        "            elif isinstance(m, nn.BatchNorm2d):  # For BatchNorm, set weight=1 and bias=0\n",
        "                nn.init.constant_(m.weight, 1)\n",
        "                nn.init.constant_(m.bias, 0)\n",
        "\n",
        "            elif isinstance(m, nn.Linear):  # For linear layers, use normal distribution\n",
        "                nn.init.normal_(m.weight, 0, 0.01)\n",
        "                nn.init.constant_(m.bias, 0)\n",
        "\n",
        "\n",
        "\n",
        "\n",
        "# Helper function to build VGG convolutional layers based on configuration\n",
        "def make_layers(cfg, batch_norm=False):\n",
        "    layers = []\n",
        "    in_channels = 3  # CIFAR images have 3 color channels (RGB)\n",
        "\n",
        "    for v in cfg:\n",
        "        if v == 'M':\n",
        "            # 'M' means MaxPooling layer\n",
        "            layers += [nn.MaxPool2d(kernel_size=2, stride=2)]\n",
        "\n",
        "        else:\n",
        "            # Create a Conv2d layer with 3x3 kernel\n",
        "            conv2d = nn.Conv2d(in_channels, v, kernel_size=3, padding=1)\n",
        "\n",
        "            if batch_norm:\n",
        "                # Add BatchNorm and ReLU if batch normalization is enabled\n",
        "                layers += [conv2d, nn.BatchNorm2d(v), nn.ReLU(inplace=True)]\n",
        "\n",
        "            else:\n",
        "                layers += [conv2d, nn.ReLU(inplace=True)]\n",
        "            in_channels = v  # Update input channels for next layer\n",
        "\n",
        "\n",
        "    return nn.Sequential(*layers)\n",
        "\n",
        "\n",
        "\n",
        "# Configuration dictionary: defines different VGG model architectures\n",
        "cfg = {'A':[64,'M',128,'M',256,256,'M',512,512,'M',512,512,'M'],\n",
        "       'B':[64,64,'M',128,128,'M',256,256,'M',512,512,'M',512,512,'M'],\n",
        "       'D':[64,64,'M',128,128,'M',256,256,256,'M',512,512,512,'M',512,512,512,'M'],\n",
        "       'E':[64,64,'M',128,128,'M',256,256,256,256,'M',512,512,512,512,'M',512,512,512,512,'M']}\n",
        "\n",
        "\n",
        "\n",
        "# VGG model builders for different architectures (with optional pretrained weights)\n",
        "def vgg11(pretrained=False, **kwargs):\n",
        "\n",
        "    if pretrained:\n",
        "      kwargs['init_weights']=False\n",
        "    model = VGG(make_layers(cfg['A']), **kwargs)\n",
        "    if pretrained:\n",
        "        model.load_state_dict(model_zoo.load_url(model_urls['vgg11']))\n",
        "    return model\n",
        "\n",
        "def vgg11_bn(pretrained=False, **kwargs):\n",
        "\n",
        "    if pretrained:\n",
        "      kwargs['init_weights']=False\n",
        "    model = VGG(make_layers(cfg['A'], batch_norm=True), **kwargs)\n",
        "    if pretrained:\n",
        "        model.load_state_dict(model_zoo.load_url(model_urls['vgg11_bn']))\n",
        "    return model\n",
        "\n",
        "def vgg13(pretrained=False, **kwargs):\n",
        "\n",
        "    if pretrained:\n",
        "      kwargs['init_weights']=False\n",
        "    model = VGG(make_layers(cfg['B']), **kwargs)\n",
        "    if pretrained:\n",
        "        model.load_state_dict(model_zoo.load_url(model_urls['vgg13']))\n",
        "    return model\n",
        "\n",
        "def vgg13_bn(pretrained=False, **kwargs):\n",
        "\n",
        "    if pretrained:\n",
        "      kwargs['init_weights']=False\n",
        "    model =  VGG(make_layers(cfg['B'], batch_norm=True), **kwargs)\n",
        "    if pretrained:\n",
        "        model.load_state_dict(model_zoo.load_url(model_urls['vgg13_bn']))\n",
        "    return model\n",
        "\n",
        "def vgg16(pretrained=False, **kwargs):\n",
        "\n",
        "    if pretrained:\n",
        "      kwargs['init_weights']=False\n",
        "    model = VGG(make_layers(cfg['D']), **kwargs)\n",
        "    if pretrained:\n",
        "        model.load_state_dict(model_zoo.load_url(model_urls['vgg16']))\n",
        "    return model\n",
        "\n",
        "def vgg16_bn(passtrained=False, **kwargs):\n",
        "\n",
        "    if pretrained:\n",
        "      kwargs['init_weights']=False\n",
        "    model = VGG(make_layers(cfg['D'], batch_norm=True), **kwargs)\n",
        "    if pretrained:\n",
        "        model.load_state_dict(model_zoo.load_url(model_urls['vgg16_bn']))\n",
        "    return model\n",
        "\n",
        "def vgg19(pretrained=False, **kwargs):\n",
        "\n",
        "    if pretrained:\n",
        "      kwargs['init_weights']=False\n",
        "    model = VGG(make_layers(cfg['E']), **kwargs)\n",
        "    if pretrained:\n",
        "        model.load_state_dict(model_zoo.load_url(model_urls['vgg19']))\n",
        "    return model\n",
        "\n",
        "def vgg19_bn(passtrained=False, **kwargs):\n",
        "\n",
        "    if pretrained:\n",
        "      kwargs['init_weights']=False\n",
        "    model = VGG(make_layers(cfg['E'], batch_norm=True), **kwargs)\n",
        "    if pretrained:\n",
        "        model.load_state_dict(model_zoo.load_url(model_urls['vgg19_bn']))\n",
        "    return model"
      ],
      "metadata": {
        "id": "VfPZH-aO0n_y"
      },
      "execution_count": null,
      "outputs": []
    },
    {
      "cell_type": "code",
      "source": [
        "vgg_model = vgg11_bn(num_classes=10).cuda()\n",
        "\n",
        "train_loss2=[]\n",
        "test_acc2=[]\n",
        "for epoch in tqdm(range(Num_Epoch)):\n",
        "  train_loss2.append(fit(vgg_model,Train_loader))\n",
        "  test_acc2.append(eval(vgg_model,Test_loader))\n",
        "summary(vgg_model,(3,32,32))"
      ],
      "metadata": {
        "colab": {
          "base_uri": "https://localhost:8080/"
        },
        "id": "8AIFzRDK0oqJ",
        "outputId": "be5abcfc-e2bf-4f44-feeb-b5711fffce7c"
      },
      "execution_count": null,
      "outputs": [
        {
          "output_type": "stream",
          "name": "stderr",
          "text": [
            "100%|██████████| 2/2 [00:44<00:00, 22.30s/it]"
          ]
        },
        {
          "output_type": "stream",
          "name": "stdout",
          "text": [
            "----------------------------------------------------------------\n",
            "        Layer (type)               Output Shape         Param #\n",
            "================================================================\n",
            "            Conv2d-1           [-1, 64, 32, 32]           1,792\n",
            "       BatchNorm2d-2           [-1, 64, 32, 32]             128\n",
            "              ReLU-3           [-1, 64, 32, 32]               0\n",
            "         MaxPool2d-4           [-1, 64, 16, 16]               0\n",
            "            Conv2d-5          [-1, 128, 16, 16]          73,856\n",
            "       BatchNorm2d-6          [-1, 128, 16, 16]             256\n",
            "              ReLU-7          [-1, 128, 16, 16]               0\n",
            "         MaxPool2d-8            [-1, 128, 8, 8]               0\n",
            "            Conv2d-9            [-1, 256, 8, 8]         295,168\n",
            "      BatchNorm2d-10            [-1, 256, 8, 8]             512\n",
            "             ReLU-11            [-1, 256, 8, 8]               0\n",
            "           Conv2d-12            [-1, 256, 8, 8]         590,080\n",
            "      BatchNorm2d-13            [-1, 256, 8, 8]             512\n",
            "             ReLU-14            [-1, 256, 8, 8]               0\n",
            "        MaxPool2d-15            [-1, 256, 4, 4]               0\n",
            "           Conv2d-16            [-1, 512, 4, 4]       1,180,160\n",
            "      BatchNorm2d-17            [-1, 512, 4, 4]           1,024\n",
            "             ReLU-18            [-1, 512, 4, 4]               0\n",
            "           Conv2d-19            [-1, 512, 4, 4]       2,359,808\n",
            "      BatchNorm2d-20            [-1, 512, 4, 4]           1,024\n",
            "             ReLU-21            [-1, 512, 4, 4]               0\n",
            "        MaxPool2d-22            [-1, 512, 2, 2]               0\n",
            "           Conv2d-23            [-1, 512, 2, 2]       2,359,808\n",
            "      BatchNorm2d-24            [-1, 512, 2, 2]           1,024\n",
            "             ReLU-25            [-1, 512, 2, 2]               0\n",
            "           Conv2d-26            [-1, 512, 2, 2]       2,359,808\n",
            "      BatchNorm2d-27            [-1, 512, 2, 2]           1,024\n",
            "             ReLU-28            [-1, 512, 2, 2]               0\n",
            "        MaxPool2d-29            [-1, 512, 1, 1]               0\n",
            "           Linear-30                 [-1, 4096]       2,101,248\n",
            "             ReLU-31                 [-1, 4096]               0\n",
            "          Dropout-32                 [-1, 4096]               0\n",
            "           Linear-33                 [-1, 4096]      16,781,312\n",
            "================================================================\n",
            "Total params: 28,108,544\n",
            "Trainable params: 28,108,544\n",
            "Non-trainable params: 0\n",
            "----------------------------------------------------------------\n",
            "Input size (MB): 0.01\n",
            "Forward/backward pass size (MB): 3.83\n",
            "Params size (MB): 107.23\n",
            "Estimated Total Size (MB): 111.07\n",
            "----------------------------------------------------------------\n"
          ]
        },
        {
          "output_type": "stream",
          "name": "stderr",
          "text": [
            "\n"
          ]
        }
      ]
    },
    {
      "cell_type": "code",
      "source": [
        "plt.plot(train_loss2, label='VGG Train Loss')\n",
        "plt.legend()\n",
        "plt.title('VGG Train Loss')\n",
        "plt.show()\n",
        "\n",
        "plt.plot(test_acc2, label='VGG Test Accuracy')\n",
        "plt.legend()\n",
        "plt.title('VGG Test Accuracy')\n",
        "plt.show()"
      ],
      "metadata": {
        "colab": {
          "base_uri": "https://localhost:8080/",
          "height": 887
        },
        "id": "tKBhx7Jq2OI7",
        "outputId": "39df3429-fdd5-4fba-efa0-414b6af5f8aa"
      },
      "execution_count": null,
      "outputs": [
        {
          "output_type": "display_data",
          "data": {
            "text/plain": [
              "<Figure size 640x480 with 1 Axes>"
            ],
            "image/png": "[encoded data removed]"
          },
          "metadata": {}
        },
        {
          "output_type": "display_data",
          "data": {
            "text/plain": [
              "<Figure size 640x480 with 1 Axes>"
            ],
            "image/png": "[encoded data removed]"
          },
          "metadata": {}
        }
      ]
    }
  ]
}