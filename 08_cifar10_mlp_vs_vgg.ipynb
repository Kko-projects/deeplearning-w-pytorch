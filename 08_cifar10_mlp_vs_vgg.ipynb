{
  "nbformat": 4,
  "nbformat_minor": 0,
  "metadata": {
    "colab": {
      "provenance": [],
      "gpuType": "T4",
      "authorship_tag": "ABX9TyMWUrL+rNo+ukzQNI698Tzo"
    },
    "kernelspec": {
      "name": "python3",
      "display_name": "Python 3"
    },
    "language_info": {
      "name": "python"
    },
    "accelerator": "GPU"
  },
  "cells": [
    {
      "cell_type": "markdown",
      "source": [
        "1. Import Libraries"
      ],
      "metadata": {
        "id": "D-r0VaKd4lbQ"
      }
    },
    {
      "cell_type": "code",
      "execution_count": 1,
      "metadata": {
        "colab": {
          "base_uri": "https://localhost:8080/"
        },
        "id": "5VzVWH-2d4rT",
        "outputId": "1ae70775-4e45-4dc5-88d8-f17f86c8b532"
      },
      "outputs": [
        {
          "output_type": "stream",
          "name": "stdout",
          "text": [
            "True\n"
          ]
        }
      ],
      "source": [
        "import numpy as np\n",
        "import matplotlib.pyplot as plt\n",
        "\n",
        "import torch\n",
        "print(torch.cuda.is_available())  # Should print True\n",
        "device = torch.device(\"cuda\" if torch.cuda.is_available() else \"cpu\")\n",
        "\n",
        "import torch.nn as nn\n",
        "import torchvision.datasets as dsets\n",
        "import torchvision.transforms as transforms\n",
        "from torch.utils.data import DataLoader, TensorDataset\n",
        "\n",
        "from torchsummary import summary\n",
        "from tqdm import tqdm"
      ]
    },
    {
      "cell_type": "markdown",
      "source": [
        "2. Environment & Hyperparameters"
      ],
      "metadata": {
        "id": "4CuEc4Aq4quW"
      }
    },
    {
      "cell_type": "code",
      "source": [
        "#Global Variable For training\n",
        "Batch_Size=100\n",
        "Num_Epoch=2\n",
        "Learning_Rate=0.01\n",
        "Criterion=nn.CrossEntropyLoss()\n",
        "Optimizer=torch.optim.Adam"
      ],
      "metadata": {
        "id": "AYnkKz3segei"
      },
      "execution_count": 2,
      "outputs": []
    },
    {
      "cell_type": "markdown",
      "source": [
        "3. Load CIFAR-10 Dataset"
      ],
      "metadata": {
        "id": "_-4D7lbc4y3G"
      }
    },
    {
      "cell_type": "code",
      "source": [
        "#CIFARIO Dataset\n",
        "Train_dataset=dsets.CIFAR10(root='./data',train=True,transform=transforms.ToTensor(),download=True)\n",
        "Test_dataset=dsets.CIFAR10(root='./data',train=False,transform=transforms.ToTensor(),download=True)\n",
        "\n",
        "Train_loader=DataLoader(dataset=Train_dataset,batch_size=Batch_Size,shuffle=True)\n",
        "Test_loader=DataLoader(dataset=Test_dataset,batch_size=Batch_Size,shuffle=False)\n"
      ],
      "metadata": {
        "colab": {
          "base_uri": "https://localhost:8080/"
        },
        "id": "RXWs6KWNevuY",
        "outputId": "d68ae07d-44f3-4dc0-8161-27b83869d322"
      },
      "execution_count": 3,
      "outputs": [
        {
          "output_type": "stream",
          "name": "stderr",
          "text": [
            "100%|██████████| 170M/170M [00:13<00:00, 13.0MB/s]\n"
          ]
        }
      ]
    },
    {
      "cell_type": "markdown",
      "source": [
        "4. Visualize a Few Images"
      ],
      "metadata": {
        "id": "9ZOZsRtv43se"
      }
    },
    {
      "cell_type": "code",
      "source": [
        "Train_dataset.class_to_idx"
      ],
      "metadata": {
        "colab": {
          "base_uri": "https://localhost:8080/"
        },
        "id": "1l9L253Ue41j",
        "outputId": "ea23aa86-1ec7-45ca-9de9-aa945a97647c"
      },
      "execution_count": 4,
      "outputs": [
        {
          "output_type": "execute_result",
          "data": {
            "text/plain": [
              "{'airplane': 0,\n",
              " 'automobile': 1,\n",
              " 'bird': 2,\n",
              " 'cat': 3,\n",
              " 'deer': 4,\n",
              " 'dog': 5,\n",
              " 'frog': 6,\n",
              " 'horse': 7,\n",
              " 'ship': 8,\n",
              " 'truck': 9}"
            ]
          },
          "metadata": {},
          "execution_count": 4
        }
      ]
    },
    {
      "cell_type": "code",
      "source": [
        "Train_dataset[0][0].shape"
      ],
      "metadata": {
        "colab": {
          "base_uri": "https://localhost:8080/"
        },
        "id": "ml1he-YFfBqI",
        "outputId": "25ed7382-dd0d-4901-d202-791743875f68"
      },
      "execution_count": 5,
      "outputs": [
        {
          "output_type": "execute_result",
          "data": {
            "text/plain": [
              "torch.Size([3, 32, 32])"
            ]
          },
          "metadata": {},
          "execution_count": 5
        }
      ]
    },
    {
      "cell_type": "code",
      "source": [
        "Train_dataset.targets[0]"
      ],
      "metadata": {
        "colab": {
          "base_uri": "https://localhost:8080/"
        },
        "id": "GDW8DQfjfCsh",
        "outputId": "9ed39689-f636-495c-d6d2-38c1cefe3ff1"
      },
      "execution_count": 7,
      "outputs": [
        {
          "output_type": "execute_result",
          "data": {
            "text/plain": [
              "6"
            ]
          },
          "metadata": {},
          "execution_count": 7
        }
      ]
    },
    {
      "cell_type": "code",
      "source": [
        "plt.imshow(Train_dataset[0][0].permute(1,2,0))"
      ],
      "metadata": {
        "colab": {
          "base_uri": "https://localhost:8080/",
          "height": 448
        },
        "id": "-f1xXyYxfMPd",
        "outputId": "c90a0a28-0735-4c90-ff49-83db0eb1eaf7"
      },
      "execution_count": 8,
      "outputs": [
        {
          "output_type": "execute_result",
          "data": {
            "text/plain": [
              "<matplotlib.image.AxesImage at 0x7eb6c11320d0>"
            ]
          },
          "metadata": {},
          "execution_count": 8
        },
        {
          "output_type": "display_data",
          "data": {
            "text/plain": [
              "<Figure size 640x480 with 1 Axes>"
            ],
            "image/png": "[encoded data removed]"
          },
          "metadata": {}
        }
      ]
    },
    {
      "cell_type": "code",
      "source": [
        "index=0\n",
        "print(Train_dataset.classes[Train_dataset.targets[index]])\n",
        "plt.imshow(Train_dataset[index][0].permute(1,2,0))"
      ],
      "metadata": {
        "colab": {
          "base_uri": "https://localhost:8080/",
          "height": 466
        },
        "id": "y0sDnvAfj536",
        "outputId": "5228622c-97f4-42f8-ac66-804b882d7294"
      },
      "execution_count": 9,
      "outputs": [
        {
          "output_type": "stream",
          "name": "stdout",
          "text": [
            "frog\n"
          ]
        },
        {
          "output_type": "execute_result",
          "data": {
            "text/plain": [
              "<matplotlib.image.AxesImage at 0x7eb6c102fd50>"
            ]
          },
          "metadata": {},
          "execution_count": 9
        },
        {
          "output_type": "display_data",
          "data": {
            "text/plain": [
              "<Figure size 640x480 with 1 Axes>"
            ],
            "image/png": "[encoded data removed]"
          },
          "metadata": {}
        }
      ]
    },
    {
      "cell_type": "code",
      "source": [
        "index=1\n",
        "print(Train_dataset.classes[Train_dataset.targets[index]])\n",
        "plt.imshow(Train_dataset[index][0].permute(1,2,0))"
      ],
      "metadata": {
        "colab": {
          "base_uri": "https://localhost:8080/",
          "height": 466
        },
        "id": "D9d0i7yjkKQq",
        "outputId": "9b4e82a8-33e3-47b4-f3c5-0a66ee08eb15"
      },
      "execution_count": 10,
      "outputs": [
        {
          "output_type": "stream",
          "name": "stdout",
          "text": [
            "truck\n"
          ]
        },
        {
          "output_type": "execute_result",
          "data": {
            "text/plain": [
              "<matplotlib.image.AxesImage at 0x7eb6c0f0d890>"
            ]
          },
          "metadata": {},
          "execution_count": 10
        },
        {
          "output_type": "display_data",
          "data": {
            "text/plain": [
              "<Figure size 640x480 with 1 Axes>"
            ],
            "image/png": "[encoded data removed]"
          },
          "metadata": {}
        }
      ]
    },
    {
      "cell_type": "code",
      "source": [
        "index=2\n",
        "print(Train_dataset.classes[Train_dataset.targets[index]])\n",
        "plt.imshow(Train_dataset[index][0].permute(1,2,0))"
      ],
      "metadata": {
        "colab": {
          "base_uri": "https://localhost:8080/",
          "height": 466
        },
        "id": "gUF8SFdtkLrd",
        "outputId": "56b068e6-e363-4ebe-9dd2-cddb0a557185"
      },
      "execution_count": 35,
      "outputs": [
        {
          "output_type": "stream",
          "name": "stdout",
          "text": [
            "truck\n"
          ]
        },
        {
          "output_type": "execute_result",
          "data": {
            "text/plain": [
              "<matplotlib.image.AxesImage at 0x7c854f517f10>"
            ]
          },
          "metadata": {},
          "execution_count": 35
        },
        {
          "output_type": "display_data",
          "data": {
            "text/plain": [
              "<Figure size 640x480 with 1 Axes>"
            ],
            "image/png": "[encoded data removed]"
          },
          "metadata": {}
        }
      ]
    },
    {
      "cell_type": "code",
      "source": [
        "index=3\n",
        "print(Train_dataset.targets[index])\n",
        "print(Train_dataset.classes[Train_dataset.targets[index]])\n",
        "plt.imshow(Train_dataset[index][0].permute(1,2,0))"
      ],
      "metadata": {
        "colab": {
          "base_uri": "https://localhost:8080/",
          "height": 484
        },
        "id": "n2NyaHQ8kPRW",
        "outputId": "6adbb9e1-bfa5-4f19-b2b9-df20a8a79650"
      },
      "execution_count": 11,
      "outputs": [
        {
          "output_type": "stream",
          "name": "stdout",
          "text": [
            "4\n",
            "deer\n"
          ]
        },
        {
          "output_type": "execute_result",
          "data": {
            "text/plain": [
              "<matplotlib.image.AxesImage at 0x7eb6c0db8dd0>"
            ]
          },
          "metadata": {},
          "execution_count": 11
        },
        {
          "output_type": "display_data",
          "data": {
            "text/plain": [
              "<Figure size 640x480 with 1 Axes>"
            ],
            "image/png": "[encoded data removed]"
          },
          "metadata": {}
        }
      ]
    },
    {
      "cell_type": "markdown",
      "source": [
        "5. Define Training and Evaluation Functions"
      ],
      "metadata": {
        "id": "2v1k--sn49ZW"
      }
    },
    {
      "cell_type": "code",
      "source": [
        "def fit(model,train_loader):\n",
        "  model.train()\n",
        "  device = next(model.parameters()).device.index\n",
        "  optimizer = torch.optim.SGD(model.parameters(), lr=Learning_Rate, momentum=0.9)\n",
        "  losses = []\n",
        "  for i, data in enumerate(train_loader):\n",
        "    image= data[0].type(torch.FloatTensor).cuda(device)\n",
        "    label= data[1].type(torch.LongTensor).cuda(device)\n",
        "\n",
        "    pred = model(image)                 # Forward pass\n",
        "    loss = Criterion(pred, label)       # Compute loss\n",
        "    optimizer.zero_grad()              # Clear gradients\n",
        "    loss.backward()                    # Backpropagation\n",
        "    optimizer.step()                   # Update weights\n",
        "\n",
        "    losses.append(loss.item())         # Save loss for tracking\n",
        "\n",
        "  avg_loss = sum(losses)/len(losses)  # Return average loss\n",
        "  return avg_loss"
      ],
      "metadata": {
        "id": "QbETVt5XkfrI"
      },
      "execution_count": 12,
      "outputs": []
    },
    {
      "cell_type": "code",
      "source": [
        "def eval(model, Test_loader):\n",
        "  model.eval()\n",
        "  device = next(model.parameters()).device.index  # Get the device (GPU/CPU) model is on\n",
        "  pred_labels = []\n",
        "  real_labels = []\n",
        "\n",
        "  for i, data in enumerate(Test_loader):\n",
        "    image = data[0].type(torch.FloatTensor).cuda(device)  # Move image to the correct device\n",
        "    label = data[1].type(torch.LongTensor).cuda(device)   # Move label to the correct device\n",
        "\n",
        "    real_labels += label.tolist() # Save ground-truth labels\n",
        "    pred_label = model(image)  # Get raw output from model (logits)\n",
        "    pred_label = torch.argmax(pred_label, dim=1)  # Get predicted class (index of max logit)\n",
        "    pred_labels += pred_label.tolist()  # Save predictions\n",
        "\n",
        "\n",
        "  # Convert to numpy arrays for easier comparison\n",
        "  real_labels = np.array(real_labels)\n",
        "  pred_labels = np.array(pred_labels)\n",
        "\n",
        "  # Calculate accuracy: how many predictions matched the actual labels\n",
        "  accuracy = sum(real_labels == pred_labels)/len(real_labels)*100\n",
        "\n",
        "  return accuracy # Return percentage accuracy"
      ],
      "metadata": {
        "id": "mP7Ovfxgluep"
      },
      "execution_count": 21,
      "outputs": []
    },
    {
      "cell_type": "markdown",
      "source": [
        "6. Define Simple MLP"
      ],
      "metadata": {
        "id": "_X7wxmjy5BRO"
      }
    },
    {
      "cell_type": "code",
      "source": [
        "# MLP Structure : fully connected layer + reshape + pooling\n",
        "class SimpleMLP(nn.Module):\n",
        "    def __init__(self):\n",
        "        super(SimpleMLP, self).__init__()\n",
        "\n",
        "        # First fully connected layer: flatten 3x32x32 image to vector, output 8x24x24 feature size\n",
        "        self.fc1 = nn.Linear(3*32*32, 8*24*24)\n",
        "        self.relu1 = nn.ReLU()\n",
        "\n",
        "        # Second fully connected layer (same output shape to maintain compatibility)\n",
        "        self.fc2 = nn.Linear(8*24*24, 8*24*24)\n",
        "        self.relu2 = nn.ReLU()\n",
        "        self.pool1 = nn.MaxPool2d(2)  # Downsampling layer (2x2)\n",
        "\n",
        "        # Third FC layer after pooling: output 16x8x8 features\n",
        "        self.fc3 = nn.Linear(8*12*12, 16*8*8)\n",
        "        self.relu3 = nn.ReLU()\n",
        "\n",
        "        # Fourth FC layer: output 16x4x4 features\n",
        "        self.fc4 = nn.Linear(16*8*8, 16*4*4)\n",
        "        self.relu4 = nn.ReLU()\n",
        "        self.pool2 = nn.MaxPool2d(2)  # Downsampling again\n",
        "\n",
        "        # Final output layer: flatten and output scores for 10 classes\n",
        "        self.out = nn.Linear(16*2*2, 10)\n",
        "\n",
        "\n",
        "\n",
        "    def forward(self, x):\n",
        "        # Flatten input image from (batch_size, 3, 32, 32) to (batch_size, 3*32*32)\n",
        "        x = x.view(-1, 3*32*32)\n",
        "\n",
        "        # Pass through first FC layer and activation\n",
        "        x = self.relu1(self.fc1(x))\n",
        "\n",
        "        # Second FC layer and activation\n",
        "        x = self.relu2(self.fc2(x))\n",
        "\n",
        "        # Reshape to 3D feature map for pooling: (batch_size, 8, 24, 24)\n",
        "        x = x.view(-1, 8, 24, 24)\n",
        "\n",
        "        # Max pooling: output becomes (batch_size, 8, 12, 12)\n",
        "        x = self.pool1(x)\n",
        "\n",
        "        # Flatten for FC again: (batch_size, 8*12*12)\n",
        "        x = x.view(-1, 8*12*12)\n",
        "\n",
        "        # Third FC layer and activation\n",
        "        x = self.relu3(self.fc3(x))\n",
        "\n",
        "        # Fourth FC layer and activation\n",
        "        x = self.relu4(self.fc4(x))\n",
        "\n",
        "        # Reshape to 3D again: (batch_size, 16, 4, 4)\n",
        "        x = x.view(-1, 16, 4, 4)\n",
        "\n",
        "        # Second pooling: becomes (batch_size, 16, 2, 2)\n",
        "        x = self.pool2(x)\n",
        "\n",
        "        # Flatten for output layer: (batch_size, 16*2*2)\n",
        "        x = x.view(-1, 16*2*2)\n",
        "\n",
        "        # Final output: (batch_size, 10) – raw class scores (logits)\n",
        "        out = self.out(x)\n",
        "\n",
        "        return out\n",
        "\n"
      ],
      "metadata": {
        "id": "xYGX7eeImvzS"
      },
      "execution_count": 36,
      "outputs": []
    },
    {
      "cell_type": "markdown",
      "source": [
        "Debug Note: Shape Mismatch in SimpleMLP\n",
        "\n",
        "When running the model, I encountered the following error:\n",
        "RuntimeError: mat1 and mat2 shapes cannot be multiplied (100x4608 and 6272x4608)\n",
        "\n",
        "The shape mismatch was caused by incorrect input dimensions in the second linear layer (fc2).\n",
        "The first linear layer (fc1) outputs a tensor of shape [batch_size, 8*24*24], but fc2 was incorrectly expecting an input of shape [batch_size, 8*28*28].\n",
        "\n",
        "I updated fc2 to match the correct input shape: self.fc2 = nn.Linear(8*24*24, 8*24*24)\n",
        "\n",
        "This resolved the shape mismatch error.\n",
        "\n"
      ],
      "metadata": {
        "id": "cOQLYIAQvs1L"
      }
    },
    {
      "cell_type": "markdown",
      "source": [
        "7. Train and Evaluate MLP"
      ],
      "metadata": {
        "id": "_1QUwPnf5HZu"
      }
    },
    {
      "cell_type": "code",
      "source": [
        "device = torch.device(\"cuda\" if torch.cuda.is_available() else \"cpu\")\n",
        "# Instantiate the model and move it to GPU\n",
        "mlp_model = SimpleMLP().to(device)\n",
        "\n",
        "train_loss1=[]  # To store training loss after each epoch\n",
        "test_acc1=[]   # To store test accuracy after each epoch\n",
        "\n",
        "# Training loop\n",
        "for epoch in tqdm(range(Num_Epoch)):  # Loop through each epoch\n",
        "    loss = fit(mlp_model, Train_loader)      # Train model and get average loss\n",
        "    acc = eval(mlp_model, Test_loader)       # Evaluate on test set and get accuracy\n",
        "    train_loss1.append(loss)                 # Save loss\n",
        "    test_acc1.append(acc)                    # Save accuracy\n",
        "\n",
        "\n",
        "summary(mlp_model,(3,32,32)) # Input shape = (channels, height, width)\n"
      ],
      "metadata": {
        "colab": {
          "base_uri": "https://localhost:8080/"
        },
        "id": "hkl0F7Cxo7K5",
        "outputId": "8bb45379-a70b-4f23-cfe3-d58291ebe9b5"
      },
      "execution_count": 37,
      "outputs": [
        {
          "output_type": "stream",
          "name": "stderr",
          "text": [
            "100%|██████████| 2/2 [00:19<00:00,  9.52s/it]"
          ]
        },
        {
          "output_type": "stream",
          "name": "stdout",
          "text": [
            "----------------------------------------------------------------\n",
            "        Layer (type)               Output Shape         Param #\n",
            "================================================================\n",
            "            Linear-1                 [-1, 4608]      14,160,384\n",
            "              ReLU-2                 [-1, 4608]               0\n",
            "            Linear-3                 [-1, 4608]      21,238,272\n",
            "              ReLU-4                 [-1, 4608]               0\n",
            "         MaxPool2d-5            [-1, 8, 12, 12]               0\n",
            "            Linear-6                 [-1, 1024]       1,180,672\n",
            "              ReLU-7                 [-1, 1024]               0\n",
            "            Linear-8                  [-1, 256]         262,400\n",
            "              ReLU-9                  [-1, 256]               0\n",
            "        MaxPool2d-10             [-1, 16, 2, 2]               0\n",
            "           Linear-11                   [-1, 10]             650\n",
            "================================================================\n",
            "Total params: 36,842,378\n",
            "Trainable params: 36,842,378\n",
            "Non-trainable params: 0\n",
            "----------------------------------------------------------------\n",
            "Input size (MB): 0.01\n",
            "Forward/backward pass size (MB): 0.17\n",
            "Params size (MB): 140.54\n",
            "Estimated Total Size (MB): 140.72\n",
            "----------------------------------------------------------------\n"
          ]
        },
        {
          "output_type": "stream",
          "name": "stderr",
          "text": [
            "\n"
          ]
        }
      ]
    },
    {
      "cell_type": "code",
      "source": [
        "train_loss1, test_acc1"
      ],
      "metadata": {
        "colab": {
          "base_uri": "https://localhost:8080/"
        },
        "id": "YyrprQ76u6-P",
        "outputId": "1fc18d51-3606-4d95-8ea3-3b13ef6ffb88"
      },
      "execution_count": 38,
      "outputs": [
        {
          "output_type": "execute_result",
          "data": {
            "text/plain": [
              "([1.9658982467651367, 1.690656768321991],\n",
              " [np.float64(36.64), np.float64(39.72)])"
            ]
          },
          "metadata": {},
          "execution_count": 38
        }
      ]
    },
    {
      "cell_type": "markdown",
      "source": [
        "8. Define VGG Model & Config"
      ],
      "metadata": {
        "id": "zh_XbKSw5MMB"
      }
    },
    {
      "cell_type": "code",
      "source": [
        "# VGG\n",
        "import torch.utils.model_zoo as model_zoo\n",
        "\n",
        "model_urls = {\n",
        "    'vgg11':'https://download.pytorch.org/models/vgg11-bbd30ac9.pth',\n",
        "    'vgg13':'https://download.pytorch.org/models/vgg13-c768596a.pth',\n",
        "    'vgg16':'https://download.pytorch.org/models/vgg16-397923af.pth',\n",
        "    'vgg19':'https://download.pytorch.org/models/vgg19-dcbb9e9d.pth',\n",
        "    'vgg11_bn':'https://download.pytorch.org/models/vgg11_bn-6002323d.pth',\n",
        "    'vgg13_bn':'https://download.pytorch.org/models/vgg13_bn-abd245e5.pth',\n",
        "    'vgg16_bn':'https://download.pytorch.org/models/vgg16_bn-6c64b313.pth',\n",
        "    'vgg19_bn':'https://download.pytorch.org/models/vgg19_bn-903'\n",
        "\n",
        "}"
      ],
      "metadata": {
        "id": "Y-YNlPnzwwoi"
      },
      "execution_count": 39,
      "outputs": []
    },
    {
      "cell_type": "code",
      "source": [
        "# VGG class definition: handles feature extraction and classification\n",
        "class VGG(nn.Module):\n",
        "    def __init__(self, features, num_classes=1000, init_weights=True):\n",
        "\n",
        "        super(VGG, self).__init__()\n",
        "\n",
        "        self.features = features  # CNN feature extractor built by make_layers()\n",
        "\n",
        "        self.classifier = nn.Sequential(  # Fully connected (dense) layers\n",
        "            nn.Linear(512, 4096),\n",
        "            nn.ReLU(True),\n",
        "            nn.Dropout(),\n",
        "            nn.Linear(4096, 4096),\n",
        "        )\n",
        "\n",
        "        if init_weights:\n",
        "            self._initialize_weights()  # Initialize weights if specified\n",
        "\n",
        "\n",
        "    def forward(self, x):\n",
        "        x = self.features(x)           # Apply convolutional layers\n",
        "        x = x.view(x.size(0), -1)      # Flatten the output\n",
        "        x = self.classifier(x)         # Apply dense layers\n",
        "        return x\n",
        "\n",
        "\n",
        "    def _initialize_weights(self):\n",
        "      if isinstance(m, nn.Conv2d):  # For Conv2d layers, use He initialization\n",
        "            nn.init.kaiming_normal_(m.weight, mode='fan_out', nonlinearity='relu')\n",
        "            if hasattr(m, 'bias') and m.bias is not None:\n",
        "                    nn.init.constant_(m.bias, 0)\n",
        "\n",
        "            elif isinstance(m, nn.BatchNorm2d):  # For BatchNorm, set weight=1 and bias=0\n",
        "                nn.init.constant_(m.weight, 1)\n",
        "                nn.init.constant_(m.bias, 0)\n",
        "\n",
        "            elif isinstance(m, nn.Linear):  # For linear layers, use normal distribution\n",
        "                nn.init.normal_(m.weight, 0, 0.01)\n",
        "                nn.init.constant_(m.bias, 0)\n",
        "\n",
        "\n",
        "\n",
        "\n",
        "# Helper function to build VGG convolutional layers based on configuration\n",
        "def make_layers(cfg, batch_norm=False):\n",
        "    layers = []\n",
        "    in_channels = 3  # CIFAR images have 3 color channels (RGB)\n",
        "\n",
        "    for v in cfg:\n",
        "        if v == 'M':\n",
        "            # 'M' means MaxPooling layer\n",
        "            layers += [nn.MaxPool2d(kernel_size=2, stride=2)]\n",
        "\n",
        "        else:\n",
        "            # Create a Conv2d layer with 3x3 kernel\n",
        "            conv2d = nn.Conv2d(in_channels, v, kernel_size=3, padding=1)\n",
        "\n",
        "            if batch_norm:\n",
        "                # Add BatchNorm and ReLU if batch normalization is enabled\n",
        "                layers += [conv2d, nn.BatchNorm2d(v), nn.ReLU(inplace=True)]\n",
        "\n",
        "            else:\n",
        "                layers += [conv2d, nn.ReLU(inplace=True)]\n",
        "            in_channels = v  # Update input channels for next layer\n",
        "\n",
        "\n",
        "    return nn.Sequential(*layers)\n",
        "\n",
        "\n",
        "\n",
        "# Configuration dictionary: defines different VGG model architectures\n",
        "cfg = {'A':[64,'M',128,'M',256,256,'M',512,512,'M',512,512,'M'],\n",
        "       'B':[64,64,'M',128,128,'M',256,256,'M',512,512,'M',512,512,'M'],\n",
        "       'D':[64,64,'M',128,128,'M',256,256,256,'M',512,512,512,'M',512,512,512,'M'],\n",
        "       'E':[64,64,'M',128,128,'M',256,256,256,256,'M',512,512,512,512,'M',512,512,512,512,'M']}\n",
        "\n",
        "\n",
        "\n",
        "# VGG model builders for different architectures (with optional pretrained weights)\n",
        "def vgg11(pretrained=False, **kwargs):\n",
        "\n",
        "    if pretrained:\n",
        "      kwargs['init_weights']=False\n",
        "    model = VGG(make_layers(cfg['A']), **kwargs)\n",
        "    if pretrained:\n",
        "        model.load_state_dict(model_zoo.load_url(model_urls['vgg11']))\n",
        "    return model\n",
        "\n",
        "def vgg11_bn(pretrained=False, **kwargs):\n",
        "\n",
        "    if pretrained:\n",
        "      kwargs['init_weights']=False\n",
        "    model = VGG(make_layers(cfg['A'], batch_norm=True), **kwargs)\n",
        "    if pretrained:\n",
        "        model.load_state_dict(model_zoo.load_url(model_urls['vgg11_bn']))\n",
        "    return model\n",
        "\n",
        "def vgg13(pretrained=False, **kwargs):\n",
        "\n",
        "    if pretrained:\n",
        "      kwargs['init_weights']=False\n",
        "    model = VGG(make_layers(cfg['B']), **kwargs)\n",
        "    if pretrained:\n",
        "        model.load_state_dict(model_zoo.load_url(model_urls['vgg13']))\n",
        "    return model\n",
        "\n",
        "def vgg13_bn(pretrained=False, **kwargs):\n",
        "\n",
        "    if pretrained:\n",
        "      kwargs['init_weights']=False\n",
        "    model =  VGG(make_layers(cfg['B'], batch_norm=True), **kwargs)\n",
        "    if pretrained:\n",
        "        model.load_state_dict(model_zoo.load_url(model_urls['vgg13_bn']))\n",
        "    return model\n",
        "\n",
        "def vgg16(pretrained=False, **kwargs):\n",
        "\n",
        "    if pretrained:\n",
        "      kwargs['init_weights']=False\n",
        "    model = VGG(make_layers(cfg['D']), **kwargs)\n",
        "    if pretrained:\n",
        "        model.load_state_dict(model_zoo.load_url(model_urls['vgg16']))\n",
        "    return model\n",
        "\n",
        "def vgg16_bn(passtrained=False, **kwargs):\n",
        "\n",
        "    if pretrained:\n",
        "      kwargs['init_weights']=False\n",
        "    model = VGG(make_layers(cfg['D'], batch_norm=True), **kwargs)\n",
        "    if pretrained:\n",
        "        model.load_state_dict(model_zoo.load_url(model_urls['vgg16_bn']))\n",
        "    return model\n",
        "\n",
        "def vgg19(pretrained=False, **kwargs):\n",
        "\n",
        "    if pretrained:\n",
        "      kwargs['init_weights']=False\n",
        "    model = VGG(make_layers(cfg['E']), **kwargs)\n",
        "    if pretrained:\n",
        "        model.load_state_dict(model_zoo.load_url(model_urls['vgg19']))\n",
        "    return model\n",
        "\n",
        "def vgg19_bn(passtrained=False, **kwargs):\n",
        "\n",
        "    if pretrained:\n",
        "      kwargs['init_weights']=False\n",
        "    model = VGG(make_layers(cfg['E'], batch_norm=True), **kwargs)\n",
        "    if pretrained:\n",
        "        model.load_state_dict(model_zoo.load_url(model_urls['vgg19_bn']))\n",
        "    return model"
      ],
      "metadata": {
        "id": "Su44DTIcxOqx"
      },
      "execution_count": 43,
      "outputs": []
    },
    {
      "cell_type": "markdown",
      "source": [
        " 9. Train and Evaluate VGG"
      ],
      "metadata": {
        "id": "46fgoLjH5Zkg"
      }
    },
    {
      "cell_type": "code",
      "source": [
        "vgg_model = vgg11_bn(num_classes=10).cuda()\n",
        "\n",
        "train_loss2=[]\n",
        "test_acc2=[]\n",
        "for epoch in tqdm(range(Num_Epoch)):\n",
        "  train_loss2.append(fit(vgg_model,Train_loader))\n",
        "  test_acc2.append(eval(vgg_model,Test_loader))\n",
        "summary(vgg_model,(3,32,32))"
      ],
      "metadata": {
        "colab": {
          "base_uri": "https://localhost:8080/"
        },
        "id": "PljpwDsu1COP",
        "outputId": "36fee0dc-3a6c-4350-8fc6-82b88750152a"
      },
      "execution_count": 44,
      "outputs": [
        {
          "output_type": "stream",
          "name": "stderr",
          "text": [
            "100%|██████████| 2/2 [00:37<00:00, 18.82s/it]"
          ]
        },
        {
          "output_type": "stream",
          "name": "stdout",
          "text": [
            "----------------------------------------------------------------\n",
            "        Layer (type)               Output Shape         Param #\n",
            "================================================================\n",
            "            Conv2d-1           [-1, 64, 32, 32]           1,792\n",
            "       BatchNorm2d-2           [-1, 64, 32, 32]             128\n",
            "              ReLU-3           [-1, 64, 32, 32]               0\n",
            "         MaxPool2d-4           [-1, 64, 16, 16]               0\n",
            "            Conv2d-5          [-1, 128, 16, 16]          73,856\n",
            "       BatchNorm2d-6          [-1, 128, 16, 16]             256\n",
            "              ReLU-7          [-1, 128, 16, 16]               0\n",
            "         MaxPool2d-8            [-1, 128, 8, 8]               0\n",
            "            Conv2d-9            [-1, 256, 8, 8]         295,168\n",
            "      BatchNorm2d-10            [-1, 256, 8, 8]             512\n",
            "             ReLU-11            [-1, 256, 8, 8]               0\n",
            "           Conv2d-12            [-1, 256, 8, 8]         590,080\n",
            "      BatchNorm2d-13            [-1, 256, 8, 8]             512\n",
            "             ReLU-14            [-1, 256, 8, 8]               0\n",
            "        MaxPool2d-15            [-1, 256, 4, 4]               0\n",
            "           Conv2d-16            [-1, 512, 4, 4]       1,180,160\n",
            "      BatchNorm2d-17            [-1, 512, 4, 4]           1,024\n",
            "             ReLU-18            [-1, 512, 4, 4]               0\n",
            "           Conv2d-19            [-1, 512, 4, 4]       2,359,808\n",
            "      BatchNorm2d-20            [-1, 512, 4, 4]           1,024\n",
            "             ReLU-21            [-1, 512, 4, 4]               0\n",
            "        MaxPool2d-22            [-1, 512, 2, 2]               0\n",
            "           Conv2d-23            [-1, 512, 2, 2]       2,359,808\n",
            "      BatchNorm2d-24            [-1, 512, 2, 2]           1,024\n",
            "             ReLU-25            [-1, 512, 2, 2]               0\n",
            "           Conv2d-26            [-1, 512, 2, 2]       2,359,808\n",
            "      BatchNorm2d-27            [-1, 512, 2, 2]           1,024\n",
            "             ReLU-28            [-1, 512, 2, 2]               0\n",
            "        MaxPool2d-29            [-1, 512, 1, 1]               0\n",
            "           Linear-30                 [-1, 4096]       2,101,248\n",
            "             ReLU-31                 [-1, 4096]               0\n",
            "          Dropout-32                 [-1, 4096]               0\n",
            "           Linear-33                 [-1, 4096]      16,781,312\n",
            "================================================================\n",
            "Total params: 28,108,544\n",
            "Trainable params: 28,108,544\n",
            "Non-trainable params: 0\n",
            "----------------------------------------------------------------\n",
            "Input size (MB): 0.01\n",
            "Forward/backward pass size (MB): 3.83\n",
            "Params size (MB): 107.23\n",
            "Estimated Total Size (MB): 111.07\n",
            "----------------------------------------------------------------\n"
          ]
        },
        {
          "output_type": "stream",
          "name": "stderr",
          "text": [
            "\n"
          ]
        }
      ]
    },
    {
      "cell_type": "markdown",
      "source": [
        "10. Compare Results"
      ],
      "metadata": {
        "id": "dJI4JXWj5dqX"
      }
    },
    {
      "cell_type": "code",
      "source": [
        "plt.plot(train_loss1, label='MLP Train Loss')\n",
        "plt.plot(train_loss2, label='VGG Train Loss')\n",
        "plt.legend()\n",
        "plt.title('Train Loss Comparison')\n",
        "plt.show()\n",
        "\n",
        "plt.plot(test_acc1, label='MLP Test Acc')\n",
        "plt.plot(test_acc2, label='VGG Test Acc')\n",
        "plt.legend()\n",
        "plt.title('Test Accuracy Comparison')\n",
        "plt.show()\n"
      ],
      "metadata": {
        "colab": {
          "base_uri": "https://localhost:8080/",
          "height": 887
        },
        "id": "5kg8B5Hr5eRs",
        "outputId": "58aadd20-1087-4fbd-826e-6a9f8a006868"
      },
      "execution_count": 45,
      "outputs": [
        {
          "output_type": "display_data",
          "data": {
            "text/plain": [
              "<Figure size 640x480 with 1 Axes>"
            ],
            "image/png": "[encoded data removed]"
          },
          "metadata": {}
        },
        {
          "output_type": "display_data",
          "data": {
            "text/plain": [
              "<Figure size 640x480 with 1 Axes>"
            ],
            "image/png": "[encoded data removed]"
          },
          "metadata": {}
        }
      ]
    }
  ]
}