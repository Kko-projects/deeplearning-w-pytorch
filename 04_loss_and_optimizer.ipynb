{
  "nbformat": 4,
  "nbformat_minor": 0,
  "metadata": {
    "colab": {
      "provenance": [],
      "authorship_tag": "ABX9TyOAt+eR1+6Skixx7gBcLLFN"
    },
    "kernelspec": {
      "name": "python3",
      "display_name": "Python 3"
    },
    "language_info": {
      "name": "python"
    }
  },
  "cells": [
    {
      "cell_type": "code",
      "execution_count": null,
      "metadata": {
        "id": "vYHRetdYSy8f"
      },
      "outputs": [],
      "source": [
        "# Loss functions and optimizers (manual update vs SGD)\n",
        "\n",
        "import torch\n",
        "import torch.nn as nn\n",
        "import torch.optim as optim\n",
        "\n",
        "# Define simple model\n",
        "class Net(nn.Module):\n",
        "    def __init__(self):\n",
        "        super(Net, self).__init__()\n",
        "        self.fc1 = nn.Linear(100, 100)\n",
        "        self.fc1_act = nn.ReLU()\n",
        "        self.fc2 = nn.Linear(100, 10)\n",
        "\n",
        "    def forward(self, x):\n",
        "        out = self.fc1(x)\n",
        "        out = self.fc1_act(out)\n",
        "        out = self.fc2(out)\n",
        "        return out\n",
        "\n",
        "# Instantiate model, loss, and optimizer\n",
        "net = Net()\n",
        "input = torch.randn(10, 100)\n",
        "target = torch.randn(10, 10)\n",
        "\n",
        "criterion = nn.MSELoss()\n",
        "optimizer = optim.SGD(net.parameters(), lr=0.01)\n",
        "\n",
        "# Forward pass\n",
        "output = net(input)\n",
        "loss = criterion(output, target)\n",
        "print(loss)\n",
        "\n",
        "# Manual gradient update\n",
        "net.zero_grad()\n",
        "print('fc1.bias.grad before backward')\n",
        "print(net.fc1.bias.grad)\n",
        "loss.backward()\n",
        "print('fc1.bias.grad after backward')\n",
        "print(net.fc1.bias.grad)\n",
        "\n",
        "learning_rate = 0.01\n",
        "for param in net.parameters():\n",
        "    param.data.sub_(learning_rate * param.grad.data)\n",
        "\n",
        "# Using optimizer\n",
        "num_epochs = 100\n",
        "for epoch in range(num_epochs):\n",
        "    optimizer.zero_grad()\n",
        "    output = net(input)\n",
        "    loss = criterion(output, target)\n",
        "    print(f\"Epoch {epoch+1}, Loss: {loss.item():.4f}\")\n",
        "    loss.backward()\n",
        "    optimizer.step()"
      ]
    }
  ]
}